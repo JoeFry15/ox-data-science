{
 "cells": [
  {
   "cell_type": "markdown",
   "metadata": {},
   "source": [
    "# Exercise 3: Data Structures, Functions and Loops\n",
    "\n",
    "In this week's exercise, you'll learn how to:\n",
    "\n",
    "1. write functions that manipulate data structures such as lists and dictionaries\n",
    "2. master list comprehension and dict comprehension\n",
    "3. compute operations on matrices represented as lists of lists"
   ]
  },
  {
   "cell_type": "markdown",
   "metadata": {},
   "source": [
    "## Lists"
   ]
  },
  {
   "cell_type": "markdown",
   "metadata": {},
   "source": [
    "### 3.1 Write a Python function to sum all the numbers in a list.\n",
    "\n",
    "Write a function to sum all number in a list without using the `sum()` built-in method. Hint: use a `for..in` cycle instead.\n",
    "\n",
    "Sample list: `[9, 12, 7, 19]`\n",
    "\n",
    "Expected output: 47"
   ]
  },
  {
   "cell_type": "code",
   "execution_count": 5,
   "metadata": {},
   "outputs": [],
   "source": [
    "# Write your function here:\n",
    "# Hint: do not use the name `sum` for your function because it would overwrite the built-in sum() method\n",
    "\n",
    "def sum_list(list) :\n",
    "    sum = 0\n",
    "    for n in list :\n",
    "        sum += n\n",
    "    return sum\n",
    "\n"
   ]
  },
  {
   "cell_type": "code",
   "execution_count": 6,
   "metadata": {},
   "outputs": [
    {
     "data": {
      "text/plain": [
       "47"
      ]
     },
     "execution_count": 6,
     "metadata": {},
     "output_type": "execute_result"
    }
   ],
   "source": [
    "# Test your function here\n",
    "\n",
    "num_list = [9, 12, 7, 19]\n",
    "\n",
    "sum_list(num_list)\n"
   ]
  },
  {
   "cell_type": "markdown",
   "metadata": {},
   "source": [
    "### 3.2 Write a Python program to count the number of elements in a list within a specified range.\n",
    "\n",
    "Sample list: `[10,20,30,40,40,40,70,80,99]`\n",
    "\n",
    "Sample min: `15`\n",
    "\n",
    "Sample max: `50`\n",
    "\n",
    "Expected output: `5`"
   ]
  },
  {
   "cell_type": "code",
   "execution_count": 7,
   "metadata": {},
   "outputs": [],
   "source": [
    "# Write your function here:\n",
    "def count_range(list, min, max) :\n",
    "    count = 0\n",
    "    for n in list :\n",
    "        if n >= min and n <= max :\n",
    "            count += 1\n",
    "    return count"
   ]
  },
  {
   "cell_type": "code",
   "execution_count": 8,
   "metadata": {},
   "outputs": [
    {
     "data": {
      "text/plain": [
       "5"
      ]
     },
     "execution_count": 8,
     "metadata": {},
     "output_type": "execute_result"
    }
   ],
   "source": [
    "# Test your function here\n",
    "\n",
    "count_range([10,20,30,40,40,40,70,80,99], 15, 50)"
   ]
  },
  {
   "cell_type": "markdown",
   "metadata": {},
   "source": [
    "### 3.3 List Manipulation\n",
    "\n",
    "From the given list:\n",
    "\n",
    "```\n",
    "gadgets = [“Mobile”, “Laptop”, 100, “Camera”, 310.28, “Speakers”, 27.00,\n",
    "“Television”, 1000, “Laptop Case”, “Camera Lens”]\n",
    "```\n",
    "\n",
    "a)create separate lists of strings and numbers.\n",
    " \n",
    "b)Sort the strings list in ascending order\n",
    " \n",
    "c)Sort the strings list in descending order\n",
    " \n",
    "d)Sort the number list from lowest to highest\n",
    " \n",
    "e)Sort the number list from highest to lowest"
   ]
  },
  {
   "cell_type": "code",
   "execution_count": 19,
   "metadata": {},
   "outputs": [
    {
     "name": "stdout",
     "output_type": "stream",
     "text": [
      "['Television', 'Speakers', 'Mobile', 'Laptop Case', 'Laptop', 'Camera Lens', 'Camera']\n",
      "[1000, 310.28, 100, 27.0]\n"
     ]
    }
   ],
   "source": [
    "# Write your solution here:\n",
    "\n",
    "gadgets = [\"Mobile\", \"Laptop\", 100, \"Camera\", 310.28, \"Speakers\", 27.00, \n",
    "           \"Television\", 1000, \"Laptop Case\", \"Camera Lens\"]\n",
    " \n",
    "\n",
    "# Write your solutions here \n",
    " \n",
    "# a)creating separate lists\n",
    "\n",
    "#TODO : improve numbers condition\n",
    "\n",
    "gadgets_str = []\n",
    "gadgets_int = []\n",
    "for item in gadgets :\n",
    "    if isinstance(item, str):\n",
    "        gadgets_str.append(item)\n",
    "    else :\n",
    "        gadgets_int.append(item)\n",
    "\n",
    " \n",
    "# b)sorting strings list in ascending order, a-z\n",
    "\n",
    "gadgets_str.sort()\n",
    "\n",
    "# c)sorting strings list in descending order z-a\n",
    "\n",
    "gadgets_str.sort(reverse=True)\n",
    "  \n",
    "# d)sorting number list from lowest to highest\n",
    "\n",
    "gadgets_int.sort()\n",
    " \n",
    "# e)sorting number list from highest to lowest\n",
    "\n",
    "gadgets_int.sort(reverse=True)\n",
    "\n",
    " "
   ]
  },
  {
   "cell_type": "markdown",
   "metadata": {},
   "source": [
    "## Dictionaries\n",
    "\n"
   ]
  },
  {
   "cell_type": "markdown",
   "metadata": {},
   "source": [
    "### 3.4 Dictionary manipulation\n",
    "\n",
    "Write a function that takes a dictionary as input and retuns the mean (i.e. average value) of the values stored in the dictionary\n",
    "\n",
    "```\n",
    "Sample Dictionary = Life expectancy by country = {\n",
    "    'Japan': 83.7,\n",
    "    'Switzerland': 83.4,\n",
    "    'Singapore': 83.1,\n",
    "    'Italy': 82.7,\n",
    "    'Israel': 82.5,\n",
    "    'Netherlands': 81.9,\n",
    "    'United Kingdom': 81.2,\n",
    "    'Cyprus': 80.5,\n",
    "    'Chile': 80.5,\n",
    "    'United States: 79.3,\n",
    "    'Argentina': 76.3,\n",
    "    'Iran': 75.5,\n",
    "    'Jordan': 74.1,\n",
    "    'Russia': 70.5,\n",
    "    'Philippines': 68.5,\n",
    "    'India': 68.3\n",
    "}\n",
    "```"
   ]
  },
  {
   "cell_type": "code",
   "execution_count": 20,
   "metadata": {},
   "outputs": [],
   "source": [
    "# Write your function here:\n",
    "\n",
    "def mean_value(dict) :\n",
    "    count = 0\n",
    "    sum = 0\n",
    "    for item in dict:\n",
    "        count += 1\n",
    "        sum += dict[item]\n",
    "    return sum / count"
   ]
  },
  {
   "cell_type": "code",
   "execution_count": 21,
   "metadata": {},
   "outputs": [
    {
     "data": {
      "text/plain": [
       "78.25"
      ]
     },
     "execution_count": 21,
     "metadata": {},
     "output_type": "execute_result"
    }
   ],
   "source": [
    "# Test your code here:\n",
    "\n",
    "Life_expectancy_by_country = {\n",
    "    'Japan': 83.7,\n",
    "    'Switzerland': 83.4,\n",
    "    'Singapore': 83.1,\n",
    "    'Italy': 82.7,\n",
    "    'Israel': 82.5,\n",
    "    'Netherlands': 81.9,\n",
    "    'United Kingdom': 81.2,\n",
    "    'Cyprus': 80.5,\n",
    "    'Chile': 80.5,\n",
    "    'United States': 79.3,\n",
    "    'Argentina': 76.3,\n",
    "    'Iran': 75.5,\n",
    "    'Jordan': 74.1,\n",
    "    'Russia': 70.5,\n",
    "    'Philippines': 68.5,\n",
    "    'India': 68.3\n",
    "}\n",
    "\n",
    "mean_value(Life_expectancy_by_country)"
   ]
  },
  {
   "cell_type": "markdown",
   "metadata": {},
   "source": [
    "### 3.5 Dictionary sorting\n",
    "\n",
    "Write a program that sorts by key in descending order (from Z to A) the dictionary of **exercise 3.4**. \n",
    "\n",
    "Hint: inspect the Python built-in functions (https://docs.python.org/3.7/library/functions.html)"
   ]
  },
  {
   "cell_type": "code",
   "execution_count": 23,
   "metadata": {},
   "outputs": [
    {
     "data": {
      "text/plain": [
       "{'Argentina': 76.3,\n",
       " 'Chile': 80.5,\n",
       " 'Cyprus': 80.5,\n",
       " 'India': 68.3,\n",
       " 'Iran': 75.5,\n",
       " 'Israel': 82.5,\n",
       " 'Italy': 82.7,\n",
       " 'Japan': 83.7,\n",
       " 'Jordan': 74.1,\n",
       " 'Netherlands': 81.9,\n",
       " 'Philippines': 68.5,\n",
       " 'Russia': 70.5,\n",
       " 'Singapore': 83.1,\n",
       " 'Switzerland': 83.4,\n",
       " 'United Kingdom': 81.2,\n",
       " 'United States': 79.3}"
      ]
     },
     "execution_count": 23,
     "metadata": {},
     "output_type": "execute_result"
    }
   ],
   "source": [
    "# Write your program here\n",
    "\n",
    "sorted_Life_expectancy_by_country = dict(sorted(Life_expectancy_by_country.items()))\n",
    "\n",
    "sorted_Life_expectancy_by_country"
   ]
  },
  {
   "cell_type": "markdown",
   "metadata": {},
   "source": [
    "### 3.6 Lists to Dictionary\n",
    "\n",
    "Write a program (or function) that maps two lists into a dictionary\n",
    "\n",
    "Sample first list: ```['Japan', 'Italy', 'United Kingdom', 'Russia']```\n",
    "\n",
    "Sample second list: ```[83.7, 82.7, 81.2, 70.5]```"
   ]
  },
  {
   "cell_type": "code",
   "execution_count": 24,
   "metadata": {},
   "outputs": [
    {
     "data": {
      "text/plain": [
       "{'Japan': 83.7, 'Italy': 82.7, 'United Kingdom': 81.2, 'Russia': 70.5}"
      ]
     },
     "execution_count": 24,
     "metadata": {},
     "output_type": "execute_result"
    }
   ],
   "source": [
    "# Write your program here\n",
    "\n",
    "#TODO quicker way?\n",
    "\n",
    "sample_first_list = ['Japan', 'Italy', 'United Kingdom', 'Russia']\n",
    "sample_second_list = [83.7, 82.7, 81.2, 70.5]\n",
    "\n",
    "country_number = {}\n",
    "\n",
    "for i in range(0, len(sample_first_list)) :\n",
    "    country_number[sample_first_list[i]] = sample_second_list[i]\n",
    "\n",
    "country_number"
   ]
  },
  {
   "cell_type": "markdown",
   "metadata": {},
   "source": [
    "## Tuples"
   ]
  },
  {
   "cell_type": "markdown",
   "metadata": {},
   "source": [
    "### 3.7 Write a Python program to get the 4th element and 4th element from last of a tuple.\n",
    "\n",
    "Sample input\n",
    "\n",
    "```\n",
    "tuplex = (\"we\", 3, \"are\", \"left\", 4.8, \"our\", \"u\", \"www.ox.ac.uk\", \"core\", \"empty\")\n",
    "```"
   ]
  },
  {
   "cell_type": "code",
   "execution_count": 27,
   "metadata": {},
   "outputs": [
    {
     "name": "stdout",
     "output_type": "stream",
     "text": [
      "left\n"
     ]
    },
    {
     "data": {
      "text/plain": [
       "'u'"
      ]
     },
     "execution_count": 27,
     "metadata": {},
     "output_type": "execute_result"
    }
   ],
   "source": [
    "# Write your solution here \n",
    "tuplex = (\"we\", 3, \"are\", \"left\", 4.8, \"our\", \"u\", \"www.ox.ac.uk\", \"core\", \"empty\")\n",
    "\n",
    "print(tuplex[3])\n",
    "\n",
    "tuplex[-4]"
   ]
  },
  {
   "cell_type": "markdown",
   "metadata": {},
   "source": [
    "### 3.8  Write a Python program to convert a list of tuples to a dictionary.\n",
    "\n",
    "Sample input: ```[(28, 'February'), (30, 'April'), (31, 'July'), (31, 'August'), (30, 'November')]```\n",
    "\n",
    "Sample output ```{'February': 28, 'April': 30, 'July': 31, 'August': 31, 'November': 30}```"
   ]
  },
  {
   "cell_type": "code",
   "execution_count": 28,
   "metadata": {},
   "outputs": [
    {
     "data": {
      "text/plain": [
       "{'February': 28, 'April': 30, 'July': 31, 'August': 31, 'November': 30}"
      ]
     },
     "execution_count": 28,
     "metadata": {},
     "output_type": "execute_result"
    }
   ],
   "source": [
    "# Write your program here\n",
    "\n",
    "sample_input = [(28, 'February'), (30, 'April'), (31, 'July'), (31, 'August'), (30, 'November')]\n",
    "\n",
    "date_month = {}\n",
    "\n",
    "\n",
    "#TODO quicker way?\n",
    "\n",
    "for input in sample_input :\n",
    "    date_month[input[1]] = input[0]\n",
    "\n",
    "date_month\n"
   ]
  },
  {
   "cell_type": "markdown",
   "metadata": {},
   "source": [
    "## `for` loops, list comprehension, dict comprehension"
   ]
  },
  {
   "cell_type": "markdown",
   "metadata": {},
   "source": [
    "### 3.9 List comprehension\n",
    "\n",
    "Rewrite the following code using list comprehension"
   ]
  },
  {
   "cell_type": "code",
   "execution_count": 2,
   "metadata": {},
   "outputs": [
    {
     "name": "stdout",
     "output_type": "stream",
     "text": [
      "['the', 'quick', 'brown', 'fox', 'jumps', 'over', 'the', 'lazy', 'dog']\n",
      "[5, 5, 3, 5, 4, 4, 3]\n"
     ]
    }
   ],
   "source": [
    "# Code to be rewritten\n",
    "\n",
    "sentence = \"the quick brown fox jumps over the lazy dog\"\n",
    "words = sentence.split()\n",
    "word_lengths = []\n",
    "for word in words:\n",
    "      if word != \"the\":\n",
    "          word_lengths.append(len(word))\n",
    "print(words)\n",
    "print(word_lengths)"
   ]
  },
  {
   "cell_type": "code",
   "execution_count": 4,
   "metadata": {},
   "outputs": [
    {
     "name": "stdout",
     "output_type": "stream",
     "text": [
      "['the', 'quick', 'brown', 'fox', 'jumps', 'over', 'the', 'lazy', 'dog']\n",
      "[5, 5, 3, 5, 4, 4, 3]\n"
     ]
    }
   ],
   "source": [
    "# Write your solution here\n",
    "\n",
    "sentence = \"the quick brown fox jumps over the lazy dog\"\n",
    "words = sentence.split()\n",
    "word_lengths = [len(word) for word in words if word != \"the\"]\n",
    "\n",
    "print(words)\n",
    "print(word_lengths)"
   ]
  },
  {
   "cell_type": "markdown",
   "metadata": {},
   "source": [
    "### 3.10 List filtering\n",
    "\n",
    "Using a list comprehension, create a new list called \"newlist\" out of the list \"numbers\", which contains only the positive numbers from the list, as integers rounded to the closest integer value."
   ]
  },
  {
   "cell_type": "code",
   "execution_count": 10,
   "metadata": {},
   "outputs": [
    {
     "data": {
      "text/plain": [
       "int"
      ]
     },
     "execution_count": 10,
     "metadata": {},
     "output_type": "execute_result"
    }
   ],
   "source": [
    "### Input\n",
    "\n",
    "numbers = [34.6, -203.4, 44.9, 68.3, -12.2, 44.6, 12.7]\n",
    "\n",
    "### Write your solution here\n",
    "\n",
    "rounded_positive_numbers = [round(num) for num in numbers if num >= 0]\n",
    "\n",
    "rounded_positive_numbers\n"
   ]
  },
  {
   "cell_type": "markdown",
   "metadata": {},
   "source": [
    "### 3.11 Matrix Element Wise-multiplication\n",
    "\n",
    "Matrices can be encoded as numerical two-dimensional lists\n",
    "Consider the two following matrices \n",
    "\n",
    "```\n",
    "mat_00 = [[1, 2, 3], [4, 5, 6], [7, 8, 9]]\n",
    "```\n",
    "and\n",
    "```\n",
    "mat_01 = [[1, 0, 0], [0, 1, 0], [0, 0, 1]]\n",
    "```\n",
    "\n",
    "Compute the element-wise multiplication of the two matrices, i.e.\n",
    "\n",
    "```\n",
    "mat_02 = [[1, 0, 0], [0, 5, 0], [0, 0, 9]]\n",
    "```"
   ]
  },
  {
   "cell_type": "code",
   "execution_count": 18,
   "metadata": {},
   "outputs": [
    {
     "data": {
      "text/plain": [
       "[[1, 0, 0], [0, 5, 0], [0, 0, 9]]"
      ]
     },
     "execution_count": 18,
     "metadata": {},
     "output_type": "execute_result"
    }
   ],
   "source": [
    "mat_00 = [[1, 2, 3], [4, 5, 6], [7, 8, 9]]\n",
    "mat_01 = [[1, 0, 0], [0, 1, 0], [0, 0, 1]]\n",
    "\n",
    "#TODO cleaner way?\n",
    "\n",
    "## Write your solution here:\n",
    "mat_02 = [[], [], []]\n",
    "\n",
    "for i in range(0, len(mat_00)) :\n",
    "    for j in range (0, len(mat_00[i])) :\n",
    "        mat_02[i].append(mat_00[i][j] * mat_01[i][j])\n",
    "\n",
    "mat_02"
   ]
  },
  {
   "cell_type": "markdown",
   "metadata": {},
   "source": [
    "### 3.12 Matrix-Matrix Multiplication\n",
    "\n",
    "Consider the following two matrices\n",
    "\n",
    "```\n",
    "mat_00 = [[2, 1, 3], [1, 1, 2]]\n",
    "```\n",
    "and\n",
    "```\n",
    "A = [[1, 2], [5, 6], [7, 9]]\n",
    "```\n",
    "\n",
    "Compute the matrix multiplication, i.e.:\n",
    "```\n",
    "B = [[28 37] [20 26]]\n",
    "```\n",
    "\n"
   ]
  },
  {
   "cell_type": "code",
   "execution_count": 19,
   "metadata": {},
   "outputs": [
    {
     "ename": "IndexError",
     "evalue": "list index out of range",
     "output_type": "error",
     "traceback": [
      "\u001b[0;31m---------------------------------------------------------------------------\u001b[0m",
      "\u001b[0;31mIndexError\u001b[0m                                Traceback (most recent call last)",
      "Cell \u001b[0;32mIn[19], line 9\u001b[0m\n\u001b[1;32m      7\u001b[0m \u001b[38;5;28;01mfor\u001b[39;00m i \u001b[38;5;129;01min\u001b[39;00m \u001b[38;5;28mrange\u001b[39m(\u001b[38;5;241m0\u001b[39m, \u001b[38;5;28mlen\u001b[39m(A)) :\n\u001b[1;32m      8\u001b[0m     \u001b[38;5;28;01mfor\u001b[39;00m j \u001b[38;5;129;01min\u001b[39;00m \u001b[38;5;28mrange\u001b[39m (\u001b[38;5;241m0\u001b[39m, \u001b[38;5;28mlen\u001b[39m(B)) :\n\u001b[0;32m----> 9\u001b[0m         \u001b[43mC\u001b[49m\u001b[43m[\u001b[49m\u001b[43mi\u001b[49m\u001b[43m]\u001b[49m\u001b[38;5;241m.\u001b[39mappend(mat_00[i][j] \u001b[38;5;241m*\u001b[39m mat_01[j][i])\n",
      "\u001b[0;31mIndexError\u001b[0m: list index out of range"
     ]
    }
   ],
   "source": [
    "A = [[2, 1, 3], [1, 1, 2]]\n",
    "B = [[1, 2], [5, 6], [7, 9]]\n",
    "\n",
    "# Write your solution here\n"
   ]
  },
  {
   "cell_type": "markdown",
   "metadata": {},
   "source": [
    "### 3.13 Dict comprehension\n",
    "\n",
    "Consider these four lists:\n",
    "```\n",
    "fellowship_names = ['gandalf', 'frodo', 'samwise', 'merry', 'aragorn', 'legolas', 'boromir', 'gimli', 'pippin']\n",
    "```\n",
    "```\n",
    "fellowship_surnames = [\n",
    "    'mithrandir', 'baggins', 'gamgee', 'brandybuck', 'elessar', \n",
    "    'greenleaf', 'son of denethor', 'son of gloin', 'took'\n",
    "]\n",
    "```\n",
    "```\n",
    "fellowship_species = ['maia', 'hobbit', 'hobbit', 'hobbit', 'man', 'elf', 'man', 'dwarf', 'hobbit']\n",
    "```\n",
    "```\n",
    "fellowship_ages = [inf, 51, 36, 37, 88, 800, 41, 140, 29]\n",
    "```\n",
    "\n",
    "1) Produce a dictionary with the mapping `fellowship_name` -> `fellowship_age`, pairing each element with the same index in the two lists\n",
    "\n",
    "2) Produce a dictionary with the mapping `(fellowship_name, fellowship_surname)` -> `fellowship_species`, pairing each element with the same index in the three lists"
   ]
  },
  {
   "cell_type": "code",
   "execution_count": 22,
   "metadata": {},
   "outputs": [
    {
     "data": {
      "text/plain": [
       "{('gandalf', 'maia'): 'maia',\n",
       " ('frodo', 'hobbit'): 'hobbit',\n",
       " ('samwise', 'hobbit'): 'hobbit',\n",
       " ('merry', 'hobbit'): 'hobbit',\n",
       " ('aragorn', 'man'): 'man',\n",
       " ('legolas', 'elf'): 'elf',\n",
       " ('boromir', 'man'): 'man',\n",
       " ('gimli', 'dwarf'): 'dwarf',\n",
       " ('pippin', 'hobbit'): 'hobbit'}"
      ]
     },
     "execution_count": 22,
     "metadata": {},
     "output_type": "execute_result"
    }
   ],
   "source": [
    "from math import inf\n",
    "\n",
    "fellowship_names = ['gandalf', 'frodo', 'samwise', 'merry', 'aragorn', \n",
    "                    'legolas', 'boromir', 'gimli', 'pippin']\n",
    "fellowship_surnames = [\n",
    "    'mithrandir', 'baggins', 'gamgee', 'brandybuck', 'elessar', \n",
    "    'greenleaf', 'son of denethor', 'son of gloin', 'took'\n",
    "]\n",
    "fellowship_species = ['maia', 'hobbit', 'hobbit', 'hobbit', 'man', 'elf', 'man', 'dwarf', 'hobbit']\n",
    "\n",
    "fellowship_ages = [inf, 51, 36, 37, 88, 800, 41, 140, 29]\n",
    "\n",
    "# Write your solution here\n",
    "\n",
    "fellowship_name_age = {}\n",
    "\n",
    "for i in range(0, len(fellowship_names)) :\n",
    "    fellowship_name_age[fellowship_names[i]] = fellowship_ages[i]\n",
    "\n",
    "fellowship_name_species = {}\n",
    "\n",
    "for i in range(0, len(fellowship_names)) :\n",
    "    fellowship_name_species[(fellowship_names[i], fellowship_species[i])] = fellowship_species[i]\n",
    "\n",
    "fellowship_name_species\n"
   ]
  },
  {
   "cell_type": "code",
   "execution_count": null,
   "metadata": {},
   "outputs": [],
   "source": []
  }
 ],
 "metadata": {
  "kernelspec": {
   "display_name": "Python 3",
   "language": "python",
   "name": "python3"
  },
  "language_info": {
   "codemirror_mode": {
    "name": "ipython",
    "version": 3
   },
   "file_extension": ".py",
   "mimetype": "text/x-python",
   "name": "python",
   "nbconvert_exporter": "python",
   "pygments_lexer": "ipython3",
   "version": "3.11.7"
  }
 },
 "nbformat": 4,
 "nbformat_minor": 2
}
